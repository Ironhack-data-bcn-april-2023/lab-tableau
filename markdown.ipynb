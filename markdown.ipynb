{
 "cells": [
  {
   "cell_type": "markdown",
   "metadata": {},
   "source": [
    "## LAB: TABLEAU"
   ]
  },
  {
   "cell_type": "markdown",
   "metadata": {},
   "source": [
    "Link to the dashboard:\n",
    "__[Laura Dashboard](https://public.tableau.com/app/profile/laura.moreno.sabat./viz/lab-tableau_16843559581530/Dashboard2?publish=yes)__"
   ]
  },
  {
   "cell_type": "markdown",
   "metadata": {},
   "source": [
    "### GRAPH 1:\n",
    "The first graph corresponds to a wold map with the countries that have and office colored. Also, the graph indicates how many employees work in each country. The countries which have an office ordered by the number of employees are the following:\n",
    "- USA (10)\n",
    "- FRANCE (5)\n",
    "- AUSTRALIA (4)\n",
    "- JAPAN (2)\n",
    "- UK (2)"
   ]
  },
  {
   "cell_type": "markdown",
   "metadata": {},
   "source": [
    "### GRAPH 2:\n",
    "This graph shows the top 10 customers and its location (country). The top 10 customers refers to the customers that have spent the highest amount of money over time by purchasing products of the company. The size of the circle corresponds to the amount spent by each customer. \n",
    "<br> If we take a look at the amount spent by each customer we observe that there are two of them that stand out from the rest, one located in Spain followed by another in USA. Nevertheless, if we examine the location of the top 10 customers, the first place is occupied by USA (3 customers), followed by Australia (2 customers) and then the rest with one customer per country.\n",
    "<br>It is expected to find customers in countries with offices, as we can see in the case of USA or Australia. Nevertheless it is shoking to find the customer that spent the highest amount of money in Spain. "
   ]
  },
  {
   "cell_type": "markdown",
   "metadata": {},
   "source": [
    "### GRAPH 3:\n",
    "This graph is searching for any possible correlation between the quantity of products sold by the company and the unit price for each product. As we can see, the quantity ordered broadly remains stable regardless of the product price.\n",
    "<br> It is interesting to observe one isolated product with an unusual price that exceeds 8k, taking into account that most of products price range between 1k-4k, has had a demand that almost doubled the demand of any other product. This product is a \"1992 Ferrari 360 Spider red\"."
   ]
  },
  {
   "cell_type": "markdown",
   "metadata": {},
   "source": [
    "### GRAPH 4 AND 5:\n",
    "The graph 4 displays the product line associated ordered by customer expenses. Meanwhile the graph 5 shows the same concept but for the top 10 customers. Classic and Vintage cars are the product lines to which customers spent the most, in line with the favourite product lines of the top 10 customers.  "
   ]
  }
 ],
 "metadata": {
  "kernelspec": {
   "display_name": "Python 3 (ipykernel)",
   "language": "python",
   "name": "python3"
  },
  "language_info": {
   "codemirror_mode": {
    "name": "ipython",
    "version": 3
   },
   "file_extension": ".py",
   "mimetype": "text/x-python",
   "name": "python",
   "nbconvert_exporter": "python",
   "pygments_lexer": "ipython3",
   "version": "3.10.9"
  }
 },
 "nbformat": 4,
 "nbformat_minor": 2
}
