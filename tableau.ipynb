{
 "cells": [
  {
   "cell_type": "markdown",
   "id": "f20b91a1",
   "metadata": {},
   "source": [
    "- As you can see on the sales by country dashboard, the country with more sales is the US followed by Spain.\n",
    "- The countries where the offices bring in more money doesn't necessarely correlates with the countries where the customers are located.\n",
    "- We can also see that during the months of october to december there is a peak of sales and that all product lines follow the same sales tendency across months.\n",
    "\n",
    "https://public.tableau.com/app/profile/miguel.palos.pou/viz/companysituation/Story1?publish=yes"
   ]
  }
 ],
 "metadata": {
  "kernelspec": {
   "display_name": "ironhack",
   "language": "python",
   "name": "ironhack"
  },
  "language_info": {
   "codemirror_mode": {
    "name": "ipython",
    "version": 3
   },
   "file_extension": ".py",
   "mimetype": "text/x-python",
   "name": "python",
   "nbconvert_exporter": "python",
   "pygments_lexer": "ipython3",
   "version": "3.10.4"
  }
 },
 "nbformat": 4,
 "nbformat_minor": 5
}
